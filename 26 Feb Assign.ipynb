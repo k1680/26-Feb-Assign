{
 "cells": [
  {
   "cell_type": "code",
   "execution_count": 1,
   "id": "429720ee-6124-420b-be03-9b2108bb1445",
   "metadata": {},
   "outputs": [],
   "source": [
    "# Consider the below code to answer further questions:\n",
    "import numpy as np\n",
    "list_ = [ '1' , '2' , '3' , '4' , '5' ]\n",
    "array_list = np.array(object = list_)"
   ]
  },
  {
   "cell_type": "code",
   "execution_count": 2,
   "id": "767e908b-570f-41ad-bf46-a91f6cad096c",
   "metadata": {},
   "outputs": [
    {
     "name": "stdout",
     "output_type": "stream",
     "text": [
      "<class 'list'>\n",
      "<class 'numpy.ndarray'>\n"
     ]
    }
   ],
   "source": [
    "\"\"\"Q1. Is there any difference in the data type of variables list_ and array_list? If there is then write a code to print the data types\n",
    "       of both the variables.\"\"\"\n",
    "# Ans: Yes, there is difference between list_ and array_list\n",
    "print(type(list_))\n",
    "print(type(array_list))"
   ]
  },
  {
   "cell_type": "code",
   "execution_count": 3,
   "id": "1a86901f-0874-4fd1-b49a-036b9ea57953",
   "metadata": {},
   "outputs": [
    {
     "name": "stdout",
     "output_type": "stream",
     "text": [
      "Types of elements of list_:\n",
      "<class 'str'>\n",
      "<class 'str'>\n",
      "<class 'str'>\n",
      "<class 'str'>\n",
      "<class 'str'>\n",
      "\n",
      "Types of elements of array_list: \n",
      "<class 'numpy.str_'>\n",
      "<class 'numpy.str_'>\n",
      "<class 'numpy.str_'>\n",
      "<class 'numpy.str_'>\n",
      "<class 'numpy.str_'>\n"
     ]
    }
   ],
   "source": [
    "\"\"\"Q2. Write a code to print the data type of each and every element of both the variables list_ and array_list.\"\"\"\n",
    "print(\"Types of elements of list_:\")\n",
    "for i in list_:\n",
    "    print(type(i))\n",
    "\n",
    "print()\n",
    "print(\"Types of elements of array_list: \")\n",
    "for i in array_list:\n",
    "    print(type(i))"
   ]
  },
  {
   "cell_type": "code",
   "execution_count": 4,
   "id": "e8f0aaf6-a767-45cc-99f9-30f217fbc1d9",
   "metadata": {},
   "outputs": [
    {
     "name": "stdout",
     "output_type": "stream",
     "text": [
      "Types of elements of list_:\n",
      "<class 'str'>\n",
      "<class 'str'>\n",
      "<class 'str'>\n",
      "<class 'str'>\n",
      "<class 'str'>\n",
      "\n",
      "Types of elements of array_list: \n",
      "<class 'numpy.int64'>\n",
      "<class 'numpy.int64'>\n",
      "<class 'numpy.int64'>\n",
      "<class 'numpy.int64'>\n",
      "<class 'numpy.int64'>\n"
     ]
    }
   ],
   "source": [
    "\"\"\"Q3. Considering the following changes in the variable, array_list: \n",
    "    array_list = np.array(object = list_, dtype = int)\n",
    "    Will there be any difference in the data type of the elements present in both the variables, list_ and\n",
    "    array_list? If so then print the data types of each and every element present in both the variables, list_ and array_list.\"\"\"\n",
    "array_list = np.array(object = list_, dtype = int)\n",
    "\n",
    "# Yes, there will be difference in datatypes.\n",
    "\n",
    "print(\"Types of elements of list_:\")\n",
    "for i in list_:\n",
    "    print(type(i))\n",
    "\n",
    "print()\n",
    "print(\"Types of elements of array_list: \")\n",
    "for i in array_list:\n",
    "    print(type(i))"
   ]
  },
  {
   "cell_type": "code",
   "execution_count": 5,
   "id": "e95be913-dd19-4e4a-ad94-3a6cf8eb3f00",
   "metadata": {},
   "outputs": [],
   "source": [
    "\"\"\"Consider the below code to answer further questions:\"\"\"\n",
    "import numpy as np\n",
    "num_list = [ [ 1 , 2 , 3 ] , [ 4 , 5 , 6 ] ]\n",
    "num_array = np.array(object = num_list)"
   ]
  },
  {
   "cell_type": "code",
   "execution_count": 6,
   "id": "f65825ba-eaab-4bac-9edd-35c1095ca8a4",
   "metadata": {},
   "outputs": [
    {
     "name": "stdout",
     "output_type": "stream",
     "text": [
      "Shape :  (2, 3)\n",
      "Size :  6\n"
     ]
    }
   ],
   "source": [
    "\"\"\"Q4. Write a code to find the following characteristics of variable, num_array:\n",
    "(i) shape\n",
    "(ii) size\"\"\"\n",
    "\n",
    "print(\"Shape : \", np.shape(num_array))\n",
    "print(\"Size : \", np.size(num_array))"
   ]
  },
  {
   "cell_type": "code",
   "execution_count": 7,
   "id": "60cf13ce-0a26-4b41-b53f-1c908c8d4f11",
   "metadata": {},
   "outputs": [
    {
     "name": "stdout",
     "output_type": "stream",
     "text": [
      "Shape :  (3, 3)\n",
      "Size :  9\n"
     ]
    }
   ],
   "source": [
    "\"\"\"Q5. Write a code to create numpy array of 3*3 matrix containing zeros only, using a numpy array\n",
    "creation function.\n",
    "[Hint: The size of the array will be 9 and the shape will be (3,3).]\"\"\"\n",
    "\n",
    "num_array = np.zeros((3,3))\n",
    "print(\"Shape : \", np.shape(num_array))\n",
    "print(\"Size : \", np.size(num_array))"
   ]
  },
  {
   "cell_type": "code",
   "execution_count": 8,
   "id": "c043f98d-ff44-4fda-bbca-bef6b016f949",
   "metadata": {},
   "outputs": [
    {
     "data": {
      "text/plain": [
       "array([[1., 0., 0., 0., 0.],\n",
       "       [0., 1., 0., 0., 0.],\n",
       "       [0., 0., 1., 0., 0.],\n",
       "       [0., 0., 0., 1., 0.],\n",
       "       [0., 0., 0., 0., 1.]])"
      ]
     },
     "execution_count": 8,
     "metadata": {},
     "output_type": "execute_result"
    }
   ],
   "source": [
    "\"\"\"Q6. Create an identity matrix of shape (5,5) using numpy functions?\n",
    "[Hint: An identity matrix is a matrix containing 1 diagonally and other elements will be 0.]\"\"\"\n",
    "\n",
    "identity = np.eye(5)\n",
    "identity"
   ]
  },
  {
   "cell_type": "code",
   "execution_count": null,
   "id": "cec6bf96-2ee9-4da7-a392-ff454003b114",
   "metadata": {},
   "outputs": [],
   "source": []
  }
 ],
 "metadata": {
  "kernelspec": {
   "display_name": "Python 3 (ipykernel)",
   "language": "python",
   "name": "python3"
  },
  "language_info": {
   "codemirror_mode": {
    "name": "ipython",
    "version": 3
   },
   "file_extension": ".py",
   "mimetype": "text/x-python",
   "name": "python",
   "nbconvert_exporter": "python",
   "pygments_lexer": "ipython3",
   "version": "3.10.8"
  }
 },
 "nbformat": 4,
 "nbformat_minor": 5
}
